{
  "cells": [
    {
      "metadata": {},
      "cell_type": "markdown",
      "source": "# Learning Python\nThis notebook will give you a sneak peek into the Python programming course. The full course will cover the most important basics needed for more advanced Python used in Data Science. Be sure to read the instructions carefully at every step and the rest should be self-explanatory. Enjoy!"
    },
    {
      "metadata": {},
      "cell_type": "markdown",
      "source": "## 1. First steps\n\nThis is an interactive notebook. That means you are able to execute Python code directly in this file. To execute a \"cell\" (these grey blocks with code), press `Ctrl`+`Enter` after selecting a cell, or hit `Run` above. \n\nLet's try it! Hit `Ctrl`+`Enter` after selecting the cell below."
    },
    {
      "metadata": {
        "trusted": false
      },
      "cell_type": "code",
      "source": "print(\"Hello, world!\")",
      "execution_count": null,
      "outputs": []
    },
    {
      "metadata": {},
      "cell_type": "markdown",
      "source": "This means Python tells the computer to `print` everything within quotes. This results in the quoted text being displayed just below the grey cell block, i.e. the text is 'printed' to the screen. Since this is an interactive notebook, let's get coding as soon as possible!"
    },
    {
      "metadata": {},
      "cell_type": "markdown",
      "source": "### 1.1 Python errors\n\nBefore we write our first lines of code it is important to know how to recognise when something goes wrong. Learning to code is irrevocably intertwined with recognising, fixing and handling errors. Luckily Python does a very good job at telling you what is wrong so you will know where to start looking. "
    },
    {
      "metadata": {},
      "cell_type": "markdown",
      "source": "#### Exercise 1.1.1\nTry to run the code below."
    },
    {
      "metadata": {
        "trusted": false
      },
      "cell_type": "code",
      "source": "print(\"This is Python\"",
      "execution_count": null,
      "outputs": []
    },
    {
      "metadata": {},
      "cell_type": "markdown",
      "source": "**Notice** that the notebook shows `SyntaxError: unexpected EOF while parsing` instead of printing the provided message. The reason for this error as we call it is that the code is missing a closing bracket. "
    },
    {
      "metadata": {},
      "cell_type": "markdown",
      "source": "#### Exercise 1.1.2\nAdd in the bracket in the copied code below to complete the statement and check if it runs."
    },
    {
      "metadata": {
        "trusted": false
      },
      "cell_type": "code",
      "source": "print(\"This is Python\"",
      "execution_count": null,
      "outputs": []
    },
    {
      "metadata": {},
      "cell_type": "markdown",
      "source": "Not only a closing bracket can lead to errors and there are many reasons for Python throwing an error. Luckily Python always tells you _where_ the error is happening and _why_. If you run into problems during the execution of this notebook, do not hesitate to ask for help."
    },
    {
      "metadata": {},
      "cell_type": "markdown",
      "source": "### 1.2 About Python functions\n\nAs you can see, Python does nothing more than providing the computer with a set of instructions on what and how to execute. In this case, `print` is a _function_ which applies some functionality to the sentence between the parentheses. \n\nApart from `print` Python has over 60 built-in other functions, and there are more than _100,000_ python packages which add even more functionality by providing their own functions. To give an example, there is a Python package which allows you to load images, and a package that can do complex mathmatical operations. There are even packages that build complete neural networks in just a few lines of code!"
    },
    {
      "metadata": {},
      "cell_type": "markdown",
      "source": "### 1.3 Python variables\nApart from functions, Python has some important basic functionality. Before we told Python to directly print a sentence to the notebook, but we can also _assign variables_. This means that you can store stuff in hypothetical boxes which Python remembers for you. See it as a very large warehouse (your computer memory) with rows and rows of shelves where you can temporarily store things. When you place the number 20 (the item) in a box (b) Python puts it on a shelf to be used for later and makes sure it will not be forgotten.\n\nTake a look at the example below."
    },
    {
      "metadata": {
        "trusted": false
      },
      "cell_type": "code",
      "source": "a = 10\nb = 20\n\nc = a + b\n\nprint(c) ",
      "execution_count": null,
      "outputs": []
    },
    {
      "metadata": {},
      "cell_type": "markdown",
      "source": "**Notice** that we now print numbers instead of sentences, which shows that Python can handle a variety of _variable types_.  Important for now are:\n* Rounded numbers, such as `10`, `-5`, `422`. These are called `int`, short for 'integer'. \n* Decimal numbers, such as `2.1`, `3.14`, `-98748.0`. These are called `float`. \n* Words and sentences, displayed between (single or double, both are allowed) quotes, called `string`. We have already seen `'This is Python'` and `'Hello, world!'`, but can be anything as long at it is between quotes. Confusing but important to note: numbers can also be in a `string` and will be treated as such. `'16'` (notice the quotes) will be recognised by Python as a `string` and mathematical operations will not work. Try it out below."
    },
    {
      "metadata": {
        "trusted": false
      },
      "cell_type": "code",
      "source": "'16' / 2",
      "execution_count": null,
      "outputs": []
    },
    {
      "metadata": {},
      "cell_type": "markdown",
      "source": "### 1.5 First practice\nBelow you will find a few exercises to practice with Python variables. \n\n#### Exercise 1.5.1 \nComplete the code below in such a way that the tortillas are divided equally and the error is fixed. Write your code after `portion =` and replace the dots.\n\nHint: you can use Python as a calculator, including but not limited to `+`, `-`, `/` and `*`-signs."
    },
    {
      "metadata": {
        "trusted": false
      },
      "cell_type": "code",
      "source": "people = 3\ntortillas = 15\n\n# fix here\nportion = ..\n\nprint('Everyone can eat {} tortillas.'.format(portion))",
      "execution_count": null,
      "outputs": []
    },
    {
      "metadata": {},
      "cell_type": "markdown",
      "source": "**Check** Is the code still correct if we change the number of people, or the number of tortillas? Never forget to test these cases or you might end up with a bug during production."
    },
    {
      "metadata": {},
      "cell_type": "markdown",
      "source": "#### Exercise 1.5.2 \nComplete the code below in such a way that it prints the correct amount. Write your code after `price_total` and replace the dots."
    },
    {
      "metadata": {
        "trusted": false
      },
      "cell_type": "code",
      "source": "apple_price = 0.43\napples = 12\n\n# fix the statement below\nprice_total = ..\n\nprint('You owe {} $'.format(price_total))",
      "execution_count": null,
      "outputs": []
    },
    {
      "metadata": {},
      "cell_type": "markdown",
      "source": "#### Exercise 1.5.3 \nNow write a program that calculates the temperature in Celcius, given a temperature in Fahrenheit. \n\nThe official formula for this conversion reads:  \n\n   (temperature in F − 32) × 5/9 = temperature in °C\n\nReplace the `0` with the correct formula in such a way that it can be tested by putting in different values for `fahrenheit`."
    },
    {
      "metadata": {
        "trusted": false
      },
      "cell_type": "code",
      "source": "fahrenheit = 77\n\n# fix the statement below\ncelcius = 0\n\nprint('The weather forecast today reads {} degrees C'.format(celcius))",
      "execution_count": null,
      "outputs": []
    },
    {
      "metadata": {},
      "cell_type": "markdown",
      "source": "## 2. Statements\n\nVariables allow for the storage of information, but do not incorporate any logic. For this Python has a few statements, called `if`-`else` statements. This is useful when you would like to excute a certain work order when something is the case, and another when something is not. "
    },
    {
      "metadata": {},
      "cell_type": "markdown",
      "source": "### 2.1 Boolean values\n\nIn order to understand how statements work, we first have to dive a bit deeper into `boolean` values. Python essentially answers questions you ask. For example, you could ask the question _is this value in a list?_  or _is 3 smaller than 5?_. Python then tells you whether this is `True` or `False`. Execute the Python code equivalent of this below."
    },
    {
      "metadata": {
        "trusted": false
      },
      "cell_type": "code",
      "source": "3 < 5",
      "execution_count": null,
      "outputs": []
    },
    {
      "metadata": {},
      "cell_type": "markdown",
      "source": "### 2.2 `if`-`else`\n\nNotice how in the example above Python answers the question, but there is no consequence. In pratice, you usually want something to happen when an answer is given. For example, we could write a program that outputs if you should wear a coat based on the outside temperature. Let us assume that this is preferable below 18 degrees Celcius and that we would like to print a message accordingly. \n\n```\nif(temperature < 18):\n    print('A coat is recommended.')\nelse:\n    print('Enjoy the weather!')\n```\n\nHere we ask Python _is the temperature below 18 degrees?_ and tell it _if it is so, print the following message_. We also tell it _if it is not below 18 degrees_, i.e. `else`, _do this_.\n\nLet's take another example. On a company website, a signup field could check whether a birthdate is valid by providing an error message when a birthdate is not between 1900 and 2020. See below how that would look in Python code. Try out different birth years to see what it does."
    },
    {
      "metadata": {
        "trusted": false
      },
      "cell_type": "code",
      "source": "birthyear = 0\nif(1900 < birthyear < 2020):\n    print('Success')\nelse:\n    print('Error. Incorrect birthyear.')",
      "execution_count": null,
      "outputs": []
    },
    {
      "metadata": {},
      "cell_type": "markdown",
      "source": "### 2.3 Indentation\n\n**Notice** that both `print` statements are _indented_, meaning they have a leading extra tab compared to the code line above. The reason for this is that Python uses these tabs to infer what code goes where. For example in the code above, Python knows the 'success' `print` statement belongs to the `if` statement because it is preceded by a tab. Everything with that indentation, as long as it is not interrupted, falls under that `if` statement. \n\nThe example below shows how this works in practice. Take note of how `if` and `else` operate on the same level of indentation, and therefore belong to different code blocks. Execute the code below to see what it does. "
    },
    {
      "metadata": {
        "trusted": false
      },
      "cell_type": "code",
      "source": "number = 3\nif number < 5:\n    print('Hey,')\n    print('The number is smaller than 5')\nelse: \n    print('Hi,')\nprint('The number is larger than or equal to 5.')",
      "execution_count": null,
      "outputs": []
    },
    {
      "metadata": {},
      "cell_type": "markdown",
      "source": "#### Exercise 2.3.1 \nAs you may notice the statement `The number is larger than or equal to 5.` is wrongly executed. Fix the code below (copied from above) in such a way that it prints the correct text when putting in numbers smaller than 5. Also try to test your code with numbers larger than 5; does it behave as expected?"
    },
    {
      "metadata": {
        "trusted": false
      },
      "cell_type": "code",
      "source": "number = 3\nif number < 5:\n    print('Hey,')\n    print('The number {} is smaller than 5'.format(number))\nelse: \n    print('Hi,')\nprint('The number {} is larger than or equal to 5.'.format(number))",
      "execution_count": null,
      "outputs": []
    },
    {
      "metadata": {},
      "cell_type": "markdown",
      "source": "### The End\n\nThat's it! Now you have had a peek at Python Programming, the next step would be a full hour of Python programming, or maybe even a full day. Keep an eye out for Data Scientist for a Day. "
    }
  ],
  "metadata": {
    "kernelspec": {
      "name": "python3",
      "display_name": "Python 3",
      "language": "python"
    },
    "language_info": {
      "mimetype": "text/x-python",
      "nbconvert_exporter": "python",
      "name": "python",
      "pygments_lexer": "ipython3",
      "version": "3.5.4",
      "file_extension": ".py",
      "codemirror_mode": {
        "version": 3,
        "name": "ipython"
      }
    }
  },
  "nbformat": 4,
  "nbformat_minor": 2
}
